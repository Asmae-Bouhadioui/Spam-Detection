{
  "nbformat": 4,
  "nbformat_minor": 0,
  "metadata": {
    "colab": {
      "provenance": []
    },
    "kernelspec": {
      "name": "python3",
      "display_name": "Python 3"
    },
    "language_info": {
      "name": "python"
    }
  },
  "cells": [
    {
      "cell_type": "code",
      "source": [
        "!pip install scikit-learn==1.6.0"
      ],
      "metadata": {
        "colab": {
          "base_uri": "https://localhost:8080/"
        },
        "id": "sTRSsOM5oVpD",
        "outputId": "7bba27e5-afe5-4068-d8a1-4ff4ff31ec91"
      },
      "execution_count": null,
      "outputs": [
        {
          "output_type": "stream",
          "name": "stdout",
          "text": [
            "Collecting scikit-learn==1.6.0\n",
            "  Downloading scikit_learn-1.6.0-cp311-cp311-manylinux_2_17_x86_64.manylinux2014_x86_64.whl.metadata (18 kB)\n",
            "Requirement already satisfied: numpy>=1.19.5 in /usr/local/lib/python3.11/dist-packages (from scikit-learn==1.6.0) (1.26.4)\n",
            "Requirement already satisfied: scipy>=1.6.0 in /usr/local/lib/python3.11/dist-packages (from scikit-learn==1.6.0) (1.13.1)\n",
            "Requirement already satisfied: joblib>=1.2.0 in /usr/local/lib/python3.11/dist-packages (from scikit-learn==1.6.0) (1.4.2)\n",
            "Requirement already satisfied: threadpoolctl>=3.1.0 in /usr/local/lib/python3.11/dist-packages (from scikit-learn==1.6.0) (3.5.0)\n",
            "Downloading scikit_learn-1.6.0-cp311-cp311-manylinux_2_17_x86_64.manylinux2014_x86_64.whl (13.5 MB)\n",
            "\u001b[2K   \u001b[90m━━━━━━━━━━━━━━━━━━━━━━━━━━━━━━━━━━━━━━━━\u001b[0m \u001b[32m13.5/13.5 MB\u001b[0m \u001b[31m85.0 MB/s\u001b[0m eta \u001b[36m0:00:00\u001b[0m\n",
            "\u001b[?25hInstalling collected packages: scikit-learn\n",
            "  Attempting uninstall: scikit-learn\n",
            "    Found existing installation: scikit-learn 1.4.0\n",
            "    Uninstalling scikit-learn-1.4.0:\n",
            "      Successfully uninstalled scikit-learn-1.4.0\n",
            "Successfully installed scikit-learn-1.6.0\n"
          ]
        }
      ]
    },
    {
      "cell_type": "code",
      "execution_count": null,
      "metadata": {
        "colab": {
          "base_uri": "https://localhost:8080/"
        },
        "id": "8UT0ShVqrB2X",
        "outputId": "669750da-8568-41ce-d471-c6a240c30176"
      },
      "outputs": [
        {
          "output_type": "stream",
          "name": "stderr",
          "text": [
            "[nltk_data] Downloading package stopwords to /root/nltk_data...\n",
            "[nltk_data]   Package stopwords is already up-to-date!\n"
          ]
        },
        {
          "output_type": "execute_result",
          "data": {
            "text/plain": [
              "['spam_classifier.joblib']"
            ]
          },
          "metadata": {},
          "execution_count": 7
        }
      ],
      "source": [
        "from sklearn.linear_model import LogisticRegression\n",
        "from sklearn.feature_extraction.text import TfidfVectorizer\n",
        "from imblearn.over_sampling import SMOTE\n",
        "import pandas as pd\n",
        "import re\n",
        "import nltk\n",
        "from nltk.corpus import stopwords\n",
        "import joblib\n",
        "# Import the train_test_split function\n",
        "from sklearn.model_selection import train_test_split\n",
        "\n",
        "# Télécharger les stopwords si ce n'est pas encore fait\n",
        "nltk.download('stopwords')\n",
        "\n",
        "# Charger le dataset\n",
        "df = pd.read_csv(\"spam.csv\", encoding=\"latin-1\")[[\"v1\", \"v2\"]]\n",
        "df.columns = [\"label\", \"message\"]\n",
        "\n",
        "# Convertir les labels en valeurs binaires (spam=1, non spam=0)\n",
        "df[\"label\"] = df[\"label\"].map({\"ham\": 0, \"spam\": 1})\n",
        "\n",
        "# Nettoyage du texte\n",
        "def clean_text(text):\n",
        "    text = text.lower()\n",
        "    text = re.sub(r'\\W', ' ', text)\n",
        "    text = re.sub(r'\\s+', ' ', text)\n",
        "    words = text.split()\n",
        "    words = [word for word in words if word not in stopwords.words('english')]\n",
        "    return \" \".join(words)\n",
        "\n",
        "df[\"cleaned_message\"] = df[\"message\"].apply(clean_text)\n",
        "\n",
        "# Séparation des données\n",
        "X_train, X_test, y_train, y_test = train_test_split(df[\"cleaned_message\"], df[\"label\"], test_size=0.2, random_state=42)\n",
        "\n",
        "# Vectorisation\n",
        "vectorizer = TfidfVectorizer(max_features=10000)\n",
        "X_train_vec = vectorizer.fit_transform(X_train)  # Assurez-vous d'utiliser fit_transform ici\n",
        "X_test_vec = vectorizer.transform(X_test)\n",
        "\n",
        "# Sur-échantillonnage de la classe minoritaire\n",
        "smote = SMOTE(random_state=42)\n",
        "X_train_res, y_train_res = smote.fit_resample(X_train_vec, y_train)\n",
        "\n",
        "# Entraînement du modèle\n",
        "model = LogisticRegression()\n",
        "model.fit(X_train_res, y_train_res)\n",
        "\n",
        "# Sauvegarde du vectorizer et du modèle\n",
        "joblib.dump(vectorizer, 'tfidf_vectorizer.joblib')  # Sauvegarde du vectorizer ajusté\n",
        "joblib.dump(model, 'spam_classifier.joblib')  # Sauvegarde du modèle"
      ]
    }
  ]
}